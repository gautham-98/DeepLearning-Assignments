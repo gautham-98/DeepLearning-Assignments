{
  "nbformat": 4,
  "nbformat_minor": 0,
  "metadata": {
    "colab": {
      "provenance": [],
      "gpuType": "T4"
    },
    "kernelspec": {
      "name": "python3",
      "display_name": "Python 3"
    },
    "accelerator": "GPU"
  },
  "cells": [
    {
      "cell_type": "markdown",
      "metadata": {
        "id": "mntVzX-KkTMw"
      },
      "source": [
        "# **Deep Convolutional Generative Adversarial Network (DC-GAN):**\n",
        "\n"
      ]
    },
    {
      "cell_type": "markdown",
      "metadata": {
        "id": "je6HpbYU3OBS"
      },
      "source": [
        "# Implementation\n",
        "\n"
      ]
    },
    {
      "cell_type": "markdown",
      "metadata": {
        "id": "iUxeV8eY3qsO"
      },
      "source": [
        "### Import Import TensorFlow and other libraries\n",
        "\n",
        "\n",
        "\n"
      ]
    },
    {
      "cell_type": "code",
      "metadata": {
        "id": "5YMUoIHY3w6G"
      },
      "source": [
        "from __future__ import absolute_import, division, print_function, unicode_literals"
      ],
      "execution_count": 542,
      "outputs": []
    },
    {
      "cell_type": "code",
      "metadata": {
        "id": "huTsTCrE34lX"
      },
      "source": [
        "import tensorflow as tf"
      ],
      "execution_count": 543,
      "outputs": []
    },
    {
      "cell_type": "code",
      "metadata": {
        "id": "WmyRGuXl37HQ",
        "colab": {
          "base_uri": "https://localhost:8080/",
          "height": 36
        },
        "outputId": "c54bfa5a-fd62-4718-b13a-d06a940d3595"
      },
      "source": [
        "tf.__version__\n"
      ],
      "execution_count": 544,
      "outputs": [
        {
          "output_type": "execute_result",
          "data": {
            "text/plain": [
              "'2.12.0'"
            ],
            "application/vnd.google.colaboratory.intrinsic+json": {
              "type": "string"
            }
          },
          "metadata": {},
          "execution_count": 544
        }
      ]
    },
    {
      "cell_type": "code",
      "metadata": {
        "id": "ZuZj95fJ39FP",
        "colab": {
          "base_uri": "https://localhost:8080/"
        },
        "outputId": "843f23d1-2ea4-49a6-d15c-5d3bbbedc743"
      },
      "source": [
        "# To generate GIFs for illustration\n",
        "!pip install imageio"
      ],
      "execution_count": 545,
      "outputs": [
        {
          "output_type": "stream",
          "name": "stdout",
          "text": [
            "Requirement already satisfied: imageio in /usr/local/lib/python3.10/dist-packages (2.25.1)\n",
            "Requirement already satisfied: numpy in /usr/local/lib/python3.10/dist-packages (from imageio) (1.22.4)\n",
            "Requirement already satisfied: pillow>=8.3.2 in /usr/local/lib/python3.10/dist-packages (from imageio) (8.4.0)\n"
          ]
        }
      ]
    },
    {
      "cell_type": "code",
      "metadata": {
        "id": "GwD5GaM84AtH"
      },
      "source": [
        "import glob\n",
        "import imageio\n",
        "import matplotlib.pyplot as plt\n",
        "import numpy as np\n",
        "import os\n",
        "import PIL\n",
        "from tensorflow.keras import layers\n",
        "import time\n",
        "\n",
        "from IPython import display"
      ],
      "execution_count": 546,
      "outputs": []
    },
    {
      "cell_type": "markdown",
      "metadata": {
        "id": "MMXQ85DR4DlX"
      },
      "source": [
        "### Load and prepare the dataset\n",
        "\n",
        "You will use the MNIST dataset to train the generator and the discriminator. The generator will generate handwritten digits resembling the MNIST data.\n",
        "\n",
        "You can also repeat the exercise for other avaliable variations of the MNIST dataset such as: EMNIST, Fashio-MNIST or KMNIST. For more details, please refer to [tensorflow_datasets](https://www.tensorflow.org/datasets/datasets).\n"
      ]
    },
    {
      "cell_type": "code",
      "metadata": {
        "id": "14Bcb0jq60Hf"
      },
      "source": [
        "(train_images, train_labels), (_, _) = tf.keras.datasets.mnist.load_data()"
      ],
      "execution_count": 547,
      "outputs": []
    },
    {
      "cell_type": "code",
      "metadata": {
        "id": "ujQOxSnZ62fO"
      },
      "source": [
        "train_images = train_images.reshape(train_images.shape[0], 28, 28, 1).astype('float32')\n",
        "train_images = (train_images-(255/2))/(255/2)# Normalize the images to [-1, 1]"
      ],
      "execution_count": 548,
      "outputs": []
    },
    {
      "cell_type": "code",
      "metadata": {
        "id": "UJHsgGAk6454"
      },
      "source": [
        "BUFFER_SIZE = 60000\n",
        "BATCH_SIZE = 256"
      ],
      "execution_count": 549,
      "outputs": []
    },
    {
      "cell_type": "code",
      "metadata": {
        "id": "0XfVAF_X66U2"
      },
      "source": [
        "# Batch and shuffle the data\n",
        "train_ds = tf.data.Dataset.from_tensor_slices((train_images))\n",
        "train_ds = tf.data.Dataset.batch(train_ds,batch_size=BATCH_SIZE)\n",
        "train_ds = tf.data.Dataset.shuffle(train_ds,buffer_size=BUFFER_SIZE)"
      ],
      "execution_count": 550,
      "outputs": []
    },
    {
      "cell_type": "markdown",
      "metadata": {
        "id": "FOP8x5Eu7B9Z"
      },
      "source": [
        "## Create the models\n",
        "\n",
        "Both the generator and discriminator are defined using the [Keras Sequential API](https://www.tensorflow.org/guide/keras#sequential_model)."
      ]
    },
    {
      "cell_type": "markdown",
      "metadata": {
        "id": "8XDMtsqY7DQ3"
      },
      "source": [
        "### The Generator\n",
        "\n",
        "The generator uses `tf.keras.layers.Conv2DTranspose` (fractional-strided convolutional) layers to produce an image from an input noise vector. Start with a fully connected layer that takes this vector as input, then upsample several times until you reach the desired image size of $28\\times 28 \\times 1$. Utilize the `tf.keras.layers.LeakyReLU` activation and batch normalization for each intermediate layer, except the output layer which should use tanh."
      ]
    },
    {
      "cell_type": "code",
      "metadata": {
        "id": "kTJNxJgP7_v2"
      },
      "source": [
        "from tensorflow.python.ops.gen_nn_ops import LeakyRelu\n",
        "def make_generator_model():\n",
        "    model = tf.keras.Sequential()\n",
        "    # Fully connected layer: model.add(layers.Dense(#*#*#, use_bias=False, input_shape=(100,)))\n",
        "    # Batch norm\n",
        "    # Activation function\n",
        "    # Reshape\n",
        "    model.add(layers.Dense(7*7*256, use_bias=False, input_shape=(100,)))\n",
        "    model.add(layers.BatchNormalization())\n",
        "    model.add(layers.LeakyReLU())\n",
        "    model.add(layers.Reshape((7, 7, 256)))\n",
        "\n",
        "    # Layer 2: Hint use layers.Conv2DTranspose with 5x5 kernels and appropriate stride\n",
        "    model.add(layers.Conv2DTranspose(filters=128, kernel_size=[5,5], strides=(1,1), padding='same', use_bias=False))\n",
        "    model.add(layers.BatchNormalization())\n",
        "    model.add(layers.LeakyReLU())\n",
        "    assert model.output_shape == (None, 7, 7, 128) # Note: None is the batch size\n",
        "\n",
        "    # Layer 3\n",
        "    model.add(layers.Conv2DTranspose(filters=64, kernel_size=[5,5], strides=(2,2), padding='same', use_bias=False))\n",
        "    model.add(layers.BatchNormalization())\n",
        "    model.add(layers.LeakyReLU())\n",
        "    assert model.output_shape == (None, 14, 14, 64)\n",
        "\n",
        "    #Layer4\n",
        "    model.add(layers.Conv2DTranspose(filters=1, kernel_size=[5,5], strides=(2,2), padding='same', use_bias=True, activation='tanh'))\n",
        "    assert model.output_shape == (None, 28, 28, 1)\n",
        "\n",
        "    return model"
      ],
      "execution_count": 551,
      "outputs": []
    },
    {
      "cell_type": "markdown",
      "metadata": {
        "id": "Asj3IVEg905a"
      },
      "source": [
        "Use the (as yet untrained) generator to create an image."
      ]
    },
    {
      "cell_type": "code",
      "metadata": {
        "id": "feQZ-lJC91tW",
        "colab": {
          "base_uri": "https://localhost:8080/",
          "height": 447
        },
        "outputId": "ec2e9bce-68e9-44b3-bd9b-41e5d7eb159b"
      },
      "source": [
        "generator = make_generator_model()\n",
        "\n",
        "noise = tf.random.normal([1, 100])\n",
        "generated_image = generator(noise, training=False)\n",
        "\n",
        "plt.imshow(generated_image[0, :, :, 0], cmap='gray')"
      ],
      "execution_count": 552,
      "outputs": [
        {
          "output_type": "execute_result",
          "data": {
            "text/plain": [
              "<matplotlib.image.AxesImage at 0x781ba2769f30>"
            ]
          },
          "metadata": {},
          "execution_count": 552
        },
        {
          "output_type": "display_data",
          "data": {
            "text/plain": [
              "<Figure size 640x480 with 1 Axes>"
            ],
            "image/png": "[encoded data removed]"
          },
          "metadata": {}
        }
      ]
    },
    {
      "cell_type": "markdown",
      "metadata": {
        "id": "0Xmmb04o95iz"
      },
      "source": [
        "### The Discriminator\n",
        "\n",
        "The discriminator is a CNN-based image classifier."
      ]
    },
    {
      "cell_type": "code",
      "metadata": {
        "id": "cPtnRu5G96Sm"
      },
      "source": [
        "def make_discriminator_model():\n",
        "    model = tf.keras.Sequential()\n",
        "    # Layer 1: use layers.Conv2D with 5x5 kernels and appropriate stride\n",
        "    model.add(layers.Conv2D(128,kernel_size=[5,5], strides=(2,2), padding='same',input_shape=(28,28,1)))\n",
        "    # Activation function\n",
        "    model.add(layers.LeakyReLU())\n",
        "    # Dropout\n",
        "    model.add(layers.Dropout(0.20))\n",
        "    # Layer 2: Conv2D\n",
        "    model.add(layers.Conv2D(256,kernel_size=[5,5], strides=(2,2), padding='same'))\n",
        "    # Activation function\n",
        "    model.add(layers.LeakyReLU())\n",
        "    # Dropout\n",
        "    model.add(layers.Dropout(0.20))\n",
        "    # Layer 3: Fully connected layer, output dimension must be 1\n",
        "    model.add(layers.Flatten())\n",
        "    model.add(layers.Dense(1, activation='sigmoid'))\n",
        "    return model"
      ],
      "execution_count": 553,
      "outputs": []
    },
    {
      "cell_type": "markdown",
      "metadata": {
        "id": "EkHjQFuX-9pe"
      },
      "source": [
        "Use the (as yet untrained) discriminator to classify the generated images as real or fake. The model will be trained to output positive values for real images, and negative values for fake images."
      ]
    },
    {
      "cell_type": "code",
      "metadata": {
        "id": "4CGrJESq-_sW",
        "colab": {
          "base_uri": "https://localhost:8080/"
        },
        "outputId": "38c646ce-63ae-4b62-8dae-d6594d367b1c"
      },
      "source": [
        "discriminator = make_discriminator_model()\n",
        "decision = discriminator(generated_image)\n",
        "print (decision)"
      ],
      "execution_count": 554,
      "outputs": [
        {
          "output_type": "stream",
          "name": "stdout",
          "text": [
            "tf.Tensor([[0.5001548]], shape=(1, 1), dtype=float32)\n"
          ]
        }
      ]
    },
    {
      "cell_type": "markdown",
      "metadata": {
        "id": "kpZVwskn_C7e"
      },
      "source": [
        "## Define the loss and optimizers\n",
        "\n",
        "Define loss functions and optimizers for both models.\n"
      ]
    },
    {
      "cell_type": "code",
      "metadata": {
        "id": "XV6so7s2_HCG"
      },
      "source": [
        "# This method returns a helper function to compute the binary cross entropy loss\n",
        "cross_entropy = tf.keras.losses.BinaryCrossentropy(from_logits=True)"
      ],
      "execution_count": 555,
      "outputs": []
    },
    {
      "cell_type": "markdown",
      "metadata": {
        "id": "f5pIPcDWAVve"
      },
      "source": [
        "### Discriminator loss\n",
        "\n",
        "Define the discriminator loss function. [Hint](https://www.tensorflow.org/api_docs/python/tf/keras/losses/BinaryCrossentropy): compare the discriminator's predictions on real images to an array of 1s."
      ]
    },
    {
      "cell_type": "code",
      "metadata": {
        "id": "f2WIIBvLA_A1"
      },
      "source": [
        "def discriminator_loss(real_output, fake_output):\n",
        "    real_loss = cross_entropy(tf.ones_like(real_output),real_output)\n",
        "    fake_loss = cross_entropy(tf.zeros_like(fake_output),fake_output)\n",
        "    total_loss = real_loss + fake_loss\n",
        "    return total_loss"
      ],
      "execution_count": 556,
      "outputs": []
    },
    {
      "cell_type": "markdown",
      "metadata": {
        "id": "ZU44oU0sBFx3"
      },
      "source": [
        "### Generator loss\n",
        "The generator's loss quantifies how well it was able to trick the discriminator. Intuitively, if the generator is performing well, the discriminator will classify the fake images as real (or 1). Again, use the same principle used to define the real_loss to define the generator_loss."
      ]
    },
    {
      "cell_type": "code",
      "metadata": {
        "id": "5-99MaPHBIX-"
      },
      "source": [
        "def generator_loss(fake_output):\n",
        "    generator_loss = cross_entropy(tf.ones_like(fake_output),fake_output)\n",
        "    return generator_loss"
      ],
      "execution_count": 557,
      "outputs": []
    },
    {
      "cell_type": "markdown",
      "metadata": {
        "id": "Nu1nNZ6rEOYd"
      },
      "source": [
        "The discriminator and the generator optimizers are different since both networks are trained separately. Hint: use Adam optimizers. Experiment with the learning rates."
      ]
    },
    {
      "cell_type": "code",
      "metadata": {
        "id": "4qcuMJOYEPr1"
      },
      "source": [
        "generator_optimizer = tf.optimizers.Adam(learning_rate=1e-4)#learning rate of 1e-4\n",
        "discriminator_optimizer = tf.optimizers.Adam(learning_rate=1e-4)"
      ],
      "execution_count": 558,
      "outputs": []
    },
    {
      "cell_type": "markdown",
      "metadata": {
        "id": "R5F29ay2Dzgh"
      },
      "source": [
        "### Save checkpoints\n",
        "This notebook also demonstrates how to save and restore models, which can be helpful in case a long running training task is interrupted (especially for larger datasets)."
      ]
    },
    {
      "cell_type": "code",
      "metadata": {
        "id": "RFHeBD5lD5Z9"
      },
      "source": [
        "checkpoint_dir = './training_checkpoints'\n",
        "checkpoint_prefix = os.path.join(checkpoint_dir, \"ckpt\")\n",
        "checkpoint = tf.train.Checkpoint(generator_optimizer=generator_optimizer,\n",
        "                                 discriminator_optimizer=discriminator_optimizer,\n",
        "                                 generator=generator,\n",
        "                                 discriminator=discriminator)"
      ],
      "execution_count": 559,
      "outputs": []
    },
    {
      "cell_type": "markdown",
      "metadata": {
        "id": "mrlCVZutD6wX"
      },
      "source": [
        "## Define the training loop"
      ]
    },
    {
      "cell_type": "code",
      "metadata": {
        "id": "smzVTAp1D8vV"
      },
      "source": [
        "EPOCHS = 50\n",
        "noise_dim = 100\n",
        "num_examples_to_generate = 16 # For visualization\n",
        "\n",
        "# We will reuse this noise_vector overtime (so it's easier)\n",
        "# to visualize progress in the animated GIF)\n",
        "noise_vector = tf.random.normal([num_examples_to_generate, noise_dim])"
      ],
      "execution_count": 560,
      "outputs": []
    },
    {
      "cell_type": "markdown",
      "metadata": {
        "id": "gwbo6eQLEGpm"
      },
      "source": [
        "The training loop should begin with generator receiving a random vector as input. That vector will be used to produce an image. The discriminator should then be used to classify real images (drawn from the training set) and fakes images (produced by the generator). The loss will be calculated for each of these models, and the gradients used to update the generator and discriminator"
      ]
    },
    {
      "cell_type": "code",
      "metadata": {
        "id": "CYNp18ugFVyI"
      },
      "source": [
        "# Notice the use of `tf.function`\n",
        "# This annotation causes the function to be \"compiled\".\n",
        "@tf.function\n",
        "def train_step(images):\n",
        "    noise_vector = tf.random.normal([BATCH_SIZE, noise_dim])\n",
        "\n",
        "    with tf.GradientTape() as gen_tape, tf.GradientTape() as disc_tape:\n",
        "      # Generator output\n",
        "      generated_images = generator(noise_vector, training=True)\n",
        "\n",
        "      # Discriminator output\n",
        "      real_output = discriminator(images, training=True)\n",
        "      fake_output = discriminator(generated_images, training=True)\n",
        "\n",
        "      # Loss functions\n",
        "      gen_loss = generator_loss(fake_output)\n",
        "      disc_loss = discriminator_loss(real_output,fake_output)\n",
        "\n",
        "    # Gradients\n",
        "    gradients_of_generator = gen_tape.gradient(gen_loss, generator.trainable_variables)\n",
        "    gradients_of_discriminator = disc_tape.gradient(disc_loss, discriminator.trainable_variables)\n",
        "\n",
        "    # Update both networks\n",
        "    generator_optimizer.apply_gradients(zip(gradients_of_generator, generator.trainable_variables))\n",
        "    discriminator_optimizer.apply_gradients(zip(gradients_of_discriminator, discriminator.trainable_variables))"
      ],
      "execution_count": 561,
      "outputs": []
    },
    {
      "cell_type": "code",
      "metadata": {
        "id": "7Go3wxFZG7be"
      },
      "source": [
        "def train(dataset, epochs):\n",
        "  for epoch in range(epochs):\n",
        "    start = time.time()\n",
        "\n",
        "    for image_batch in dataset:\n",
        "      train_step(image_batch)\n",
        "\n",
        "    # Produce images for the GIF as we go\n",
        "    display.clear_output(wait=True)\n",
        "    generate_and_save_images(generator,\n",
        "                             epoch + 1,\n",
        "                             noise_vector)\n",
        "\n",
        "    # Save the model every 15 epochs\n",
        "    if (epoch + 1) % 15 == 0:\n",
        "      checkpoint.save(file_prefix = checkpoint_prefix)\n",
        "\n",
        "    print ('Time for epoch {} is {} sec'.format(epoch + 1, time.time()-start))\n",
        "\n",
        "  # Generate after the final epoch\n",
        "  display.clear_output(wait=True)\n",
        "  generate_and_save_images(generator,\n",
        "                           epochs,\n",
        "                           noise_vector)"
      ],
      "execution_count": 562,
      "outputs": []
    },
    {
      "cell_type": "markdown",
      "metadata": {
        "id": "CEfIpOdgG_G9"
      },
      "source": [
        "**Generate and save images**"
      ]
    },
    {
      "cell_type": "code",
      "metadata": {
        "id": "g2Utgnx5HA2V"
      },
      "source": [
        "def generate_and_save_images(model, epoch, test_input):\n",
        "  # Notice `training` is set to False.\n",
        "  # This is so all layers run in inference mode (batchnorm).\n",
        "  predictions = model(test_input, training=False)\n",
        "\n",
        "  fig = plt.figure(figsize=(4,4))\n",
        "\n",
        "  for i in range(predictions.shape[0]):\n",
        "      plt.subplot(4, 4, i+1)\n",
        "      plt.imshow(predictions[i, :, :, 0] * 127.5 + 127.5, cmap='gray')\n",
        "      plt.axis('off')\n",
        "\n",
        "  plt.savefig('image_at_epoch_{:04d}.png'.format(epoch))\n",
        "  plt.show()"
      ],
      "execution_count": 563,
      "outputs": []
    },
    {
      "cell_type": "markdown",
      "metadata": {
        "id": "_DeQczr2HDD9"
      },
      "source": [
        "## Train the model\n",
        "Call the `train()` method defined above to train the generator and discriminator simultaneously. Note, training GANs can be tricky. It's important that the generator and discriminator do not overpower each other (e.g., that they train at a similar rate).\n",
        "\n",
        "At the beginning of the training, the generated images look like random noise. As training progresses, the generated digits will look increasingly real. After about 50 epochs, they resemble MNIST digits. This may take about one minute / epoch with the default settings on Colab."
      ]
    },
    {
      "cell_type": "code",
      "metadata": {
        "id": "_eQcxFIFHJoF",
        "colab": {
          "base_uri": "https://localhost:8080/",
          "height": 380
        },
        "outputId": "21c6bdb7-0b7a-4f38-e9cd-4abbfe9015ef"
      },
      "source": [
        "%%time\n",
        "train(train_ds, EPOCHS)"
      ],
      "execution_count": 564,
      "outputs": [
        {
          "output_type": "display_data",
          "data": {
            "text/plain": [
              "<Figure size 400x400 with 16 Axes>"
            ],
            "image/png": "[encoded data removed]"
          },
          "metadata": {}
        },
        {
          "output_type": "stream",
          "name": "stdout",
          "text": [
            "CPU times: user 3min 9s, sys: 53.9 s, total: 4min 3s\n",
            "Wall time: 20min 25s\n"
          ]
        }
      ]
    },
    {
      "cell_type": "markdown",
      "metadata": {
        "id": "9SKdS1TKHMbU"
      },
      "source": [
        "Restore the latest checkpoint."
      ]
    },
    {
      "cell_type": "code",
      "metadata": {
        "id": "bp2IoZ2wHPa1",
        "colab": {
          "base_uri": "https://localhost:8080/"
        },
        "outputId": "dbb66ed7-87f8-40b2-9693-fd294d4d3ed1"
      },
      "source": [
        "checkpoint.restore(tf.train.latest_checkpoint(checkpoint_dir))"
      ],
      "execution_count": 565,
      "outputs": [
        {
          "output_type": "execute_result",
          "data": {
            "text/plain": [
              "<tensorflow.python.checkpoint.checkpoint.CheckpointLoadStatus at 0x781ba354bfa0>"
            ]
          },
          "metadata": {},
          "execution_count": 565
        }
      ]
    },
    {
      "cell_type": "markdown",
      "metadata": {
        "id": "zWldh9PxHQ9W"
      },
      "source": [
        "## Create a GIF"
      ]
    },
    {
      "cell_type": "code",
      "metadata": {
        "id": "52O9ZFnAHSZ-"
      },
      "source": [
        "# Display a single image using the epoch number\n",
        "def display_image(epoch_no):\n",
        "  return PIL.Image.open('image_at_epoch_{:04d}.png'.format(epoch_no))"
      ],
      "execution_count": 566,
      "outputs": []
    },
    {
      "cell_type": "code",
      "metadata": {
        "id": "3cO4mviuHUPt",
        "colab": {
          "base_uri": "https://localhost:8080/",
          "height": 417
        },
        "outputId": "5645801b-3a33-43a0-b6e6-fb6c7d1fb36b"
      },
      "source": [
        "display_image(EPOCHS)"
      ],
      "execution_count": 567,
      "outputs": [
        {
          "output_type": "execute_result",
          "data": {
            "text/plain": [
              "<PIL.PngImagePlugin.PngImageFile image mode=RGBA size=400x400 at 0x781BA354BF10>"
            ],
            "image/png": "[encoded data removed]"
          },
          "metadata": {},
          "execution_count": 567
        }
      ]
    },
    {
      "cell_type": "markdown",
      "metadata": {
        "id": "E_uoQPxdHV4t"
      },
      "source": [
        "Use imageio to create an animated gif using the images saved during training."
      ]
    },
    {
      "cell_type": "code",
      "metadata": {
        "id": "P-JQiFzeHXZ1",
        "colab": {
          "base_uri": "https://localhost:8080/"
        },
        "outputId": "b2438303-19c3-4daf-cdbe-7bb8ccfa943c"
      },
      "source": [
        "anim_file = 'dcgan.gif'\n",
        "\n",
        "with imageio.get_writer(anim_file, mode='I') as writer:\n",
        "  filenames = glob.glob('image*.png')\n",
        "  filenames = sorted(filenames)\n",
        "  last = -1\n",
        "  for i,filename in enumerate(filenames):\n",
        "    frame = 8*(i**0.25)\n",
        "    if round(frame) > round(last):\n",
        "      last = frame\n",
        "    else:\n",
        "      continue\n",
        "    image = imageio.imread(filename)\n",
        "    writer.append_data(image)\n",
        "  image = imageio.imread(filename)\n",
        "  writer.append_data(image)\n",
        "\n",
        "import IPython\n",
        "if IPython.version_info > (6,2,0,''):\n",
        "  display.Image(filename=anim_file)"
      ],
      "execution_count": 568,
      "outputs": [
        {
          "output_type": "stream",
          "name": "stderr",
          "text": [
            "<ipython-input-568-79483aca92e1>:13: DeprecationWarning: Starting with ImageIO v3 the behavior of this function will switch to that of iio.v3.imread. To keep the current behavior (and make this warning disappear) use `import imageio.v2 as imageio` or call `imageio.v2.imread` directly.\n",
            "  image = imageio.imread(filename)\n",
            "<ipython-input-568-79483aca92e1>:15: DeprecationWarning: Starting with ImageIO v3 the behavior of this function will switch to that of iio.v3.imread. To keep the current behavior (and make this warning disappear) use `import imageio.v2 as imageio` or call `imageio.v2.imread` directly.\n",
            "  image = imageio.imread(filename)\n"
          ]
        }
      ]
    },
    {
      "cell_type": "markdown",
      "metadata": {
        "id": "RTCG8bdiHZY9"
      },
      "source": [
        "If you're working in Colab you can download the animation with the code below:"
      ]
    },
    {
      "cell_type": "code",
      "metadata": {
        "id": "bviCMXpwHahP",
        "colab": {
          "base_uri": "https://localhost:8080/",
          "height": 17
        },
        "outputId": "9801b23b-e8a3-4b64-c049-331809116f26"
      },
      "source": [
        "try:\n",
        "  from google.colab import files\n",
        "except ImportError:\n",
        "  pass\n",
        "else:\n",
        "  files.download(anim_file)"
      ],
      "execution_count": 569,
      "outputs": [
        {
          "output_type": "display_data",
          "data": {
            "text/plain": [
              "<IPython.core.display.Javascript object>"
            ],
            "application/javascript": [
              "\n",
              "    async function download(id, filename, size) {\n",
              "      if (!google.colab.kernel.accessAllowed) {\n",
              "        return;\n",
              "      }\n",
              "      const div = document.createElement('div');\n",
              "      const label = document.createElement('label');\n",
              "      label.textContent = `Downloading \"${filename}\": `;\n",
              "      div.appendChild(label);\n",
              "      const progress = document.createElement('progress');\n",
              "      progress.max = size;\n",
              "      div.appendChild(progress);\n",
              "      document.body.appendChild(div);\n",
              "\n",
              "      const buffers = [];\n",
              "      let downloaded = 0;\n",
              "\n",
              "      const channel = await google.colab.kernel.comms.open(id);\n",
              "      // Send a message to notify the kernel that we're ready.\n",
              "      channel.send({})\n",
              "\n",
              "      for await (const message of channel.messages) {\n",
              "        // Send a message to notify the kernel that we're ready.\n",
              "        channel.send({})\n",
              "        if (message.buffers) {\n",
              "          for (const buffer of message.buffers) {\n",
              "            buffers.push(buffer);\n",
              "            downloaded += buffer.byteLength;\n",
              "            progress.value = downloaded;\n",
              "          }\n",
              "        }\n",
              "      }\n",
              "      const blob = new Blob(buffers, {type: 'application/binary'});\n",
              "      const a = document.createElement('a');\n",
              "      a.href = window.URL.createObjectURL(blob);\n",
              "      a.download = filename;\n",
              "      div.appendChild(a);\n",
              "      a.click();\n",
              "      div.remove();\n",
              "    }\n",
              "  "
            ]
          },
          "metadata": {}
        },
        {
          "output_type": "display_data",
          "data": {
            "text/plain": [
              "<IPython.core.display.Javascript object>"
            ],
            "application/javascript": [
              "download(\"download_4740ca48-a5a8-4db4-a708-1d993313ca1a\", \"dcgan.gif\", 470820)"
            ]
          },
          "metadata": {}
        }
      ]
    }
  ]
}